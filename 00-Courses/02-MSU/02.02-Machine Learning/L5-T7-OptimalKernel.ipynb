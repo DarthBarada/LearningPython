{
  "nbformat": 4,
  "nbformat_minor": 0,
  "metadata": {
    "colab": {
      "provenance": []
    },
    "kernelspec": {
      "name": "python3",
      "display_name": "Python 3"
    },
    "language_info": {
      "name": "python"
    }
  },
  "cells": [
    {
      "cell_type": "markdown",
      "source": [
        "# Оптимальное ядро\n",
        "\n",
        "Ваша задача - подобрать оптимальное ядро для решения задачи классификации датасета `breast cancer` при помощи алгоритма `SVC`. Заполните шаблон кода, приведённый ниже, и выберите оптимальное ядро при фиксированных остальных гиперпараметрах.\n",
        "\n",
        "Значения других гиперпараметров:\n",
        "\n",
        "* C = 1.0\n",
        "* degree (для полиномиального ядра) = 2\n",
        "* gamma = 'auto'\n",
        "* random_state = 42\n",
        "\n",
        "Ядра, которые слеедует попробовать: линейное, полиномиальное, радиальное, сигмоидальное.\n",
        "\n",
        "В качестве ответа укажите строковое название наилучшего ядра без кавычек и других дополнительных символов в нижнем регистре. Имеется в виду название, которое Вы передаёте в аргумент SVC (то есть, например, не `полиномиальное`, а `poly`)\n",
        "\n",
        "Для проверки качества решения задачи используйте `accuracy` с применением разбиения выборки на train и test с параметром `test_size=0.2` и `random_state=42`.\n",
        "\n",
        "Не забудьте об использовании `StandardScaler`"
      ],
      "metadata": {
        "id": "tttQs1_6kJ5c"
      }
    },
    {
      "cell_type": "code",
      "source": [
        "import numpy as np\n",
        "from sklearn import datasets\n",
        "from sklearn.svm import SVC\n",
        "from sklearn.preprocessing import StandardScaler\n",
        "from sklearn.model_selection import train_test_split\n",
        "from sklearn.svm import SVC\n",
        "from sklearn.pipeline import make_pipeline"
      ],
      "metadata": {
        "id": "tSbOyoZrgdc_"
      },
      "execution_count": 5,
      "outputs": []
    },
    {
      "cell_type": "code",
      "source": [
        "data = datasets.load_breast_cancer()\n",
        "X, y = data.data, data.target\n",
        "\n",
        "X_train, X_test, y_train, y_test = train_test_split(X, y, test_size=0.2, random_state=42)"
      ],
      "metadata": {
        "id": "LwwrTz0BkL5r"
      },
      "execution_count": 2,
      "outputs": []
    },
    {
      "cell_type": "code",
      "source": [
        "\"\"\"\n",
        "Обучите и примените StandardScaler\n",
        "\"\"\"\n",
        "\n",
        "def compare_svm_kernels(X_train, X_test, y_train, y_test):\n",
        "    \"\"\"\n",
        "      Напишите функцию, определяющую наилучшее ядро для решения данной задачи\n",
        "    \"\"\"\n",
        "    res = []\n",
        "    classifiers = [\n",
        "        SVC(kernel=\"linear\", gamma='auto', C=1, random_state=42),\n",
        "        SVC(kernel='poly', gamma='auto', C=1.0, random_state=42, degree=2),\n",
        "        SVC(kernel=\"rbf\", gamma='auto', C=1, random_state=42),\n",
        "        SVC(kernel='sigmoid', gamma='auto', C=1.0, random_state=42)\n",
        "    ]\n",
        "\n",
        "    for clf in classifiers:\n",
        "      clf_pip = make_pipeline(StandardScaler(), clf)\n",
        "      clf_pip.fit(X_train, y_train)\n",
        "      score = clf_pip.score(X_test, y_test)\n",
        "      res.append((score, clf))\n",
        "\n",
        "    return max(res, key=lambda x: x[0])[1].kernel\n",
        "\n",
        "compare_svm_kernels(X_train, X_test, y_train, y_test)"
      ],
      "metadata": {
        "id": "cYvoIeBHgjsC",
        "outputId": "9c8cb9cf-2a30-4378-afea-1ccc1859cb0e",
        "colab": {
          "base_uri": "https://localhost:8080/",
          "height": 35
        }
      },
      "execution_count": 8,
      "outputs": [
        {
          "output_type": "execute_result",
          "data": {
            "text/plain": [
              "'rbf'"
            ],
            "application/vnd.google.colaboratory.intrinsic+json": {
              "type": "string"
            }
          },
          "metadata": {},
          "execution_count": 8
        }
      ]
    }
  ]
}